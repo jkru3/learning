{
 "cells": [
  {
   "cell_type": "code",
   "execution_count": 148,
   "metadata": {},
   "outputs": [],
   "source": [
    "# Training sets get \n",
    "# one training set for projections ((id + 1) mod 6 AND (id + 3) mod 6 every 15-month-period)\n",
    "# one slightly overlapping training set for hyperparameters\n",
    "# one dev set for projections\n",
    "# one slightly overlapping dev set for hyperparameters\n",
    "\n",
    "# alpha = how much we deviate from our current portfolio\n",
    "# beta = threshold where we liquidate stocks. if it drops below b% of the average of our per-stock-investment for that asset class, we liquidate\n",
    "# gamma = how many stocks we want at a time\n",
    "# kappa = minimum allowed spread between asset classes (eg. if we have 5 tech stocks and kappa=2, we should have at minimum 3 commodity stocks)\n",
    "# delta = TODO: each stock has some predicted range. this will always consider projected percentages to be delta% of that range\n",
    "# todo: one more that checks the weight of each day, OR one that limits information to a certain day\n",
    "# TODO: consider dividends in stocks\n",
    "\n",
    "\n",
    "def calculate_adjustments(investments, alpha=0.50, beta=0.10, gamma=25, kappa=2, delta=0.4):    \n",
    "    # Hyper parameter that determines weight of previous capital in readjustment\n",
    "\n",
    "    # Calculate the total invested capital across all investments\n",
    "    total_capital = sum(investment['invested_capital'] for investment in investments)\n",
    "\n",
    "    # Find the minimum predicted change among all investments\n",
    "    min_change = min(investment['predicted_change'] for investment in investments)\n",
    "    # Calculate the adjusted total change by subtracting the minimum change from each predicted change\n",
    "    total_change = sum(investment['predicted_change'] - min_change for investment in investments)\n",
    "    \n",
    "    new_investments = []\n",
    "    for investment in investments:\n",
    "        # Calculate new investment amount based on weighted average of normalized predicted change and proportion of total capital\n",
    "        new_investment = (alpha * ((investment['predicted_change'] - min_change) / total_change) + (1-alpha) * (investment['invested_capital'] / total_capital)) * total_capital\n",
    "        new_investments.append(new_investment)\n",
    "\n",
    "    adjustments = []\n",
    "    for i in range(len(new_investments)):\n",
    "        # Calculate the difference between new and old investment amounts to find the adjustment\n",
    "        adjustment = new_investments[i] - investments[i]['invested_capital']\n",
    "        # Include the name of the investment with its corresponding adjustment\n",
    "        adjustments.append((investments[i]['name'], adjustment))\n",
    "\n",
    "    print(f\"Portfolio adjustments: with risk of {alpha * 100:.0f}%\", [f\"{adj[0]} ++{adj[1]:.2f}\" if adj[1] > 0 else f\"{adj[0]} --{abs(adj[1]):.2f}\" for adj in adjustments], \"\\n\")\n"
   ]
  },
  {
   "cell_type": "code",
   "execution_count": 149,
   "metadata": {},
   "outputs": [
    {
     "name": "stdout",
     "output_type": "stream",
     "text": [
      "Portfolio adjustments: with risk of 5% ['TSLA --250.00', 'WLMT --185.48', 'BTC ++459.68', 'US DOLLARS --24.19'] \n",
      "\n",
      "Portfolio adjustments: with risk of 50% ['TSLA --2500.00', 'WLMT --1854.84', 'BTC ++4596.77', 'US DOLLARS --241.94'] \n",
      "\n",
      "Portfolio adjustments: with risk of 95% ['TSLA --4750.00', 'WLMT --3524.19', 'BTC ++8733.87', 'US DOLLARS --459.68'] \n",
      "\n"
     ]
    }
   ],
   "source": [
    "# TODO: add in expense ratio for ETF\n",
    "investments = [\n",
    "    {'name': 'TSLA', 'invested_capital': 5000, 'predicted_change': -0.07},\n",
    "    {'name': 'WLMT', 'invested_capital': 5000, 'predicted_change': -0.05},\n",
    "    {'name': 'BTC', 'invested_capital': 5000, 'predicted_change': 0.15},\n",
    "    {'name': 'US DOLLARS', 'invested_capital': 5000, 'predicted_change': 0.00},\n",
    "]\n",
    "\n",
    "calculate_adjustments(investments, 0.05)\n",
    "calculate_adjustments(investments, 0.50)\n",
    "calculate_adjustments(investments, 0.95)"
   ]
  }
 ],
 "metadata": {
  "kernelspec": {
   "display_name": "Python 3",
   "language": "python",
   "name": "python3"
  },
  "language_info": {
   "codemirror_mode": {
    "name": "ipython",
    "version": 3
   },
   "file_extension": ".py",
   "mimetype": "text/x-python",
   "name": "python",
   "nbconvert_exporter": "python",
   "pygments_lexer": "ipython3",
   "version": "3.9.6"
  }
 },
 "nbformat": 4,
 "nbformat_minor": 2
}
