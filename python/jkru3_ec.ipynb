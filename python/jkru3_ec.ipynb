{
 "cells": [
  {
   "cell_type": "code",
   "execution_count": 2,
   "metadata": {},
   "outputs": [],
   "source": [
    "from des import DesKey"
   ]
  },
  {
   "cell_type": "code",
   "execution_count": 7,
   "metadata": {},
   "outputs": [],
   "source": [
    "# expands 14 bit key to a 56 bit key for DES and repeats the 14 bit pattern 4 times\n",
    "def expand_key(val):\n",
    "    if val >= (2**14):\n",
    "        raise ValueError(\"key too large\")\n",
    "    k = val | (val << 14) | (val << 28) | (val << 42)\n",
    "    return DesKey(bytearray.fromhex(\"{:016X}\".format(k)))"
   ]
  },
  {
   "cell_type": "code",
   "execution_count": 18,
   "metadata": {},
   "outputs": [],
   "source": [
    "# meet in the middle attack for a double encrypted DES ciphertext\n",
    "def meet_in_the_middle(known_pt, known_ct, captured_ct):\n",
    "    # stores the result of encrypting the known plaintext with every possible key\n",
    "    encryption_map = {}\n",
    "\n",
    "    # encrypts known plaintext with every possible 14 bit key and store results\n",
    "    for val in range(2**14):\n",
    "        key = expand_key(val)\n",
    "        encrypted = key.encrypt(known_pt)\n",
    "        encryption_map[encrypted] = val\n",
    "\n",
    "    # decrypts the known ciphertext with every possible 14 bit key and checks for matches\n",
    "    for val in range(2**14):\n",
    "        key = expand_key(val)\n",
    "        decrypted = key.decrypt(known_ct)\n",
    "        if decrypted in encryption_map:\n",
    "            first_key = encryption_map[decrypted]\n",
    "            second_key = val\n",
    "            break\n",
    "\n",
    "    # decrypts the captured ciphertext with the found keys\n",
    "    first_decryption_key = expand_key(second_key)\n",
    "    intermediate_ct = first_decryption_key.decrypt(captured_ct)\n",
    "\n",
    "    second_decryption_key = expand_key(first_key)\n",
    "    final_pt = second_decryption_key.decrypt(intermediate_ct)\n",
    "\n",
    "    return final_pt.decode('utf-8')"
   ]
  },
  {
   "cell_type": "code",
   "execution_count": 19,
   "metadata": {},
   "outputs": [
    {
     "name": "stdout",
     "output_type": "stream",
     "text": [
      "This isn't enough bits of security is it\n"
     ]
    }
   ],
   "source": [
    "known_pt = b\"a short message!\"\n",
    "known_ct_hex = \"d8bf8dc0054d525a3d7fcedb6912cc43\"\n",
    "captured_ct_hex = \"26d22089fd6b1c9d5a33ae252bd9922a48d2a7e2d5868daf4d847d0c8eff3529e308ae7beb33015d\"\n",
    "\n",
    "plaintext = meet_in_the_middle(known_pt, bytes.fromhex(known_ct_hex), bytes.fromhex(captured_ct_hex))\n",
    "print(plaintext)"
   ]
  }
 ],
 "metadata": {
  "kernelspec": {
   "display_name": "Python 3",
   "language": "python",
   "name": "python3"
  },
  "language_info": {
   "codemirror_mode": {
    "name": "ipython",
    "version": 3
   },
   "file_extension": ".py",
   "mimetype": "text/x-python",
   "name": "python",
   "nbconvert_exporter": "python",
   "pygments_lexer": "ipython3",
   "version": "3.11.4"
  }
 },
 "nbformat": 4,
 "nbformat_minor": 2
}
