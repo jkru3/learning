{
 "cells": [
  {
   "cell_type": "code",
   "execution_count": 1,
   "metadata": {},
   "outputs": [
    {
     "data": {
      "text/plain": [
       "(12, 6, 28, 28)"
      ]
     },
     "execution_count": 1,
     "metadata": {},
     "output_type": "execute_result"
    }
   ],
   "source": [
    "# Given values for the Diffie-Hellman key exchange\n",
    "p = 29  # Prime number\n",
    "g = 2   # Generator\n",
    "\n",
    "# Alice's private key (x)\n",
    "x = 7\n",
    "# Bob's private key (y)\n",
    "y = 6\n",
    "\n",
    "# Alice computes her public key to send to Bob\n",
    "A = pow(g, x, p)\n",
    "\n",
    "# Bob computes his public key to send to Alice\n",
    "B = pow(g, y, p)\n",
    "\n",
    "# Both compute the shared secret key\n",
    "shared_key_Alice = pow(B, x, p)  # Alice uses Bob's public key and her private key\n",
    "shared_key_Bob = pow(A, y, p)    # Bob uses Alice's public key and his private key\n",
    "\n",
    "A, B, shared_key_Alice, shared_key_Bob"
   ]
  }
 ],
 "metadata": {
  "kernelspec": {
   "display_name": "Python 3",
   "language": "python",
   "name": "python3"
  },
  "language_info": {
   "codemirror_mode": {
    "name": "ipython",
    "version": 3
   },
   "file_extension": ".py",
   "mimetype": "text/x-python",
   "name": "python",
   "nbconvert_exporter": "python",
   "pygments_lexer": "ipython3",
   "version": "3.11.7"
  }
 },
 "nbformat": 4,
 "nbformat_minor": 2
}
