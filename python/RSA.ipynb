{
 "cells": [
  {
   "cell_type": "code",
   "execution_count": 10,
   "metadata": {},
   "outputs": [
    {
     "data": {
      "text/plain": [
       "(7, 'CRYPTOGRAPHYWITHSMALLNUMBERSISSPOOOOOKY')"
      ]
     },
     "execution_count": 10,
     "metadata": {},
     "output_type": "execute_result"
    }
   ],
   "source": [
    "# Given RSA parameters\n",
    "N = 33\n",
    "e = 3\n",
    "phi_N = (3 - 1) * (11 - 1) # phi(N) = (p-1)(q-1)\n",
    "\n",
    "def mod_inverse(a, m):\n",
    "    m0, x0, x1 = m, 0, 1\n",
    "    while a > 1:\n",
    "        q = a // m\n",
    "        m, a = a % m, m\n",
    "        x0, x1 = x1 - q * x0, x0\n",
    "    return x1 + m0 if x1 < 0 else x1\n",
    "\n",
    "# Calculate the private decryption exponent d\n",
    "d = mod_inverse(e, phi_N)\n",
    "\n",
    "# Given cryptogram\n",
    "cryptogram = [27, 24, 16, 4, 14, 9, 13, 24, 1, 4, 17, 16, 23, 3, 14, 17, 28, 19, 1, 12, 12, 5, 21, 19, 8, 26, 24, 28, 3, 28, 28, 4, 9, 9, 9, 9, 9, 11, 16]\n",
    "\n",
    "# Decrypt the message\n",
    "plaintext_numbers = [(c**d) % N for c in cryptogram]\n",
    "\n",
    "# Convert numbers to letters (A=1, B=2, ..., Z=26)\n",
    "plaintext = ''.join(chr(pn + 64) for pn in plaintext_numbers)\n",
    "\n",
    "(d, plaintext)"
   ]
  },
  {
   "cell_type": "code",
   "execution_count": 17,
   "metadata": {},
   "outputs": [
    {
     "name": "stdout",
     "output_type": "stream",
     "text": [
      "ciphertext_number: 55556666\n",
      "decryption: 49960074\n",
      "encryption: 55556666\n"
     ]
    }
   ],
   "source": [
    "p = 9497\n",
    "q = 7187\n",
    "e = 3\n",
    "plaintext_number = 67892345\n",
    "# print(\"plaintext_number:\", plaintext_number)\n",
    "ciphertext_number = 55556666\n",
    "print(\"ciphertext_number:\", ciphertext_number)\n",
    "\n",
    "N = p * q\n",
    "# print(\"n:\", N)\n",
    "phi_N = (p-1) * (q-1)\n",
    "# print(\"phi_N:\", phi_N)\n",
    "\n",
    "def mod_inverse(a, m):\n",
    "    m0, x0, x1 = m, 0, 1\n",
    "    while a > 1:\n",
    "        q = a // m\n",
    "        m, a = a % m, m\n",
    "        x0, x1 = x1 - q * x0, x0\n",
    "    return x1 + m0 if x1 < 0 else x1\n",
    "d = mod_inverse(e, phi_N)\n",
    "# print(\"d\", d)\n",
    "\n",
    "def encrypt(plaintext_number, e, N):\n",
    "    return pow(plaintext_number, e, N)\n",
    "\n",
    "def decrypt(encrypted_number, d, N):\n",
    "    return pow(encrypted_number, d, N)\n",
    "\n",
    "decrypted_number = decrypt(ciphertext_number, d, N)\n",
    "print(\"decryption:\", decrypted_number)\n",
    "encrypted_number = encrypt(decrypted_number, e, N)\n",
    "print(\"encryption:\", encrypted_number)\n"
   ]
  }
 ],
 "metadata": {
  "kernelspec": {
   "display_name": "Python 3",
   "language": "python",
   "name": "python3"
  },
  "language_info": {
   "codemirror_mode": {
    "name": "ipython",
    "version": 3
   },
   "file_extension": ".py",
   "mimetype": "text/x-python",
   "name": "python",
   "nbconvert_exporter": "python",
   "pygments_lexer": "ipython3",
   "version": "3.11.7"
  }
 },
 "nbformat": 4,
 "nbformat_minor": 2
}
