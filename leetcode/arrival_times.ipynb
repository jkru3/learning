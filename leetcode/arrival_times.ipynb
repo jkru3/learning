{
 "cells": [
  {
   "cell_type": "code",
   "execution_count": 5,
   "metadata": {},
   "outputs": [],
   "source": [
    "def solution(times):\n",
    "    # ID check time in seconds\n",
    "    id_check_time = 5 * 60\n",
    "    # Initialize the queue and the result array\n",
    "    queue = []\n",
    "    result = []\n",
    "    \n",
    "    for arrival_time in times:\n",
    "        # Process the queue if the current arrival time is greater than the first person in the queue's finish time\n",
    "        while queue and arrival_time >= queue[0]:\n",
    "            queue.pop(0)\n",
    "        \n",
    "        # If the queue has more than 10 people, the person leaves\n",
    "        if len(queue) > 10:\n",
    "            result.append(arrival_time)\n",
    "        else:\n",
    "            # Calculate the finish time for the current person\n",
    "            finish_time = max(queue[-1] if queue else arrival_time, arrival_time) + id_check_time\n",
    "            queue.append(finish_time)\n",
    "            result.append(finish_time)\n",
    "    \n",
    "    return result"
   ]
  },
  {
   "cell_type": "code",
   "execution_count": 4,
   "metadata": {},
   "outputs": [
    {
     "name": "stdout",
     "output_type": "stream",
     "text": [
      "[304, 700, 1000, 1300]\n"
     ]
    }
   ],
   "source": [
    "s = solution([4, 400, 450, 500])\n",
    "print(s) # should be [304, 700, 1000, 1300]\n"
   ]
  }
 ],
 "metadata": {
  "kernelspec": {
   "display_name": "Python 3",
   "language": "python",
   "name": "python3"
  },
  "language_info": {
   "codemirror_mode": {
    "name": "ipython",
    "version": 3
   },
   "file_extension": ".py",
   "mimetype": "text/x-python",
   "name": "python",
   "nbconvert_exporter": "python",
   "pygments_lexer": "ipython3",
   "version": "3.11.7"
  }
 },
 "nbformat": 4,
 "nbformat_minor": 2
}
