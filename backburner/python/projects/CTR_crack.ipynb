{
 "cells": [
  {
   "cell_type": "code",
   "execution_count": 1,
   "metadata": {},
   "outputs": [
    {
     "data": {
      "text/plain": [
       "'50 6c 65 61 73 65 42 65 43 61 72 65 66 75 6c 57 69 74 68 43 6f 75 6e 74 65 72 52 65 75 73 65 21'"
      ]
     },
     "execution_count": 1,
     "metadata": {},
     "output_type": "execute_result"
    }
   ],
   "source": [
    "# Ciphertext C1 and its corresponding plaintext P1\n",
    "C1_blocks = [\n",
    "    bytes.fromhex('00000000000000000000000000000003'),\n",
    "    bytes.fromhex('4664DC0697BBFE69330715079BA6C23D'),\n",
    "    bytes.fromhex('2B84DE4F908D7D34AACE968B64F3DF75')\n",
    "]\n",
    "P1 = bytes.fromhex('43727970746F6772617068792043727970746F6772617068792043727970746F')\n",
    "\n",
    "# Ciphertext C2\n",
    "C2_blocks = [\n",
    "    bytes.fromhex('000000000000000000000000000003'),\n",
    "    bytes.fromhex('557AC01790B1DB7E11160F1BDD90DC13'),\n",
    "    bytes.fromhex('3284D96B8D996328B69C879C68F0CE3B')\n",
    "]\n",
    "\n",
    "# Since CTR mode is used, encryption and decryption are identical operations.\n",
    "# The keystream can be derived by XORing the plaintext P1 with the ciphertext blocks (excluding the initial counter).\n",
    "# Then, this keystream can be used to decrypt C2 to obtain P2.\n",
    "\n",
    "keystream_blocks = []\n",
    "\n",
    "# XORing P1 with C1's encrypted blocks to get the keystream\n",
    "for i in range(1, len(C1_blocks)):  # Skipping the first block as it's the counter\n",
    "    keystream_blocks.append(bytes([_a ^ _b for _a, _b in zip(P1[(i-1)*16:i*16], C1_blocks[i])]))\n",
    "\n",
    "# Using the derived keystream to decrypt C2\n",
    "P2 = bytearray()\n",
    "for i, block in enumerate(keystream_blocks):\n",
    "    decrypted_block = bytes([_a ^ _b for _a, _b in zip(C2_blocks[i+1], block)])  # i+1 to skip the counter in C2\n",
    "    P2.extend(decrypted_block)\n",
    "\n",
    "# Convert decrypted plaintext P2 to hexadecimal format\n",
    "P2_hex = ' '.join(['{:02x}'.format(x) for x in P2])\n",
    "P2_hex"
   ]
  }
 ],
 "metadata": {
  "kernelspec": {
   "display_name": "Python 3",
   "language": "python",
   "name": "python3"
  },
  "language_info": {
   "codemirror_mode": {
    "name": "ipython",
    "version": 3
   },
   "file_extension": ".py",
   "mimetype": "text/x-python",
   "name": "python",
   "nbconvert_exporter": "python",
   "pygments_lexer": "ipython3",
   "version": "3.11.7"
  }
 },
 "nbformat": 4,
 "nbformat_minor": 2
}
