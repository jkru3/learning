{
 "cells": [
  {
   "cell_type": "code",
   "execution_count": 31,
   "id": "43a4d543",
   "metadata": {},
   "outputs": [
    {
     "ename": "IndentationError",
     "evalue": "expected an indented block (862266740.py, line 13)",
     "output_type": "error",
     "traceback": [
      "\u001b[0;36m  Cell \u001b[0;32mIn[31], line 13\u001b[0;36m\u001b[0m\n\u001b[0;31m    if len(stack) == 0:\u001b[0m\n\u001b[0m    ^\u001b[0m\n\u001b[0;31mIndentationError\u001b[0m\u001b[0;31m:\u001b[0m expected an indented block\n"
     ]
    }
   ],
   "source": [
    "\n",
    "\n",
    "def dailyTemperatures(self, temperatures: List[int]) -> List[int]:\n",
    "    '''\n",
    "    monotonic stack\n",
    "    keep track of the number of iterations between each pop\n",
    "    embed in tuple on stack (temp, index)\n",
    "    load in dict\n",
    "    '''\n",
    "    stack = []\n",
    "    wait_times = {}\n",
    "    for i in range(len(temperatures)-1, -1, -1):\n",
    "        temp = temperatures[i]\n",
    "        while stack and temp > stack[-1]:\n",
    "        if len(stack) == 0:\n",
    "            wait_times[temp] = 0\n",
    "        stack.append((temp, i))\n",
    "\n",
    "\n",
    "\n",
    "test1 = dailyTemperatures([30])\n",
    "assert test1 == [0]\n",
    "test2 = dailyTemperatures([100])\n",
    "assert test1 == [0]\n",
    "# test3 = dailyTemperatures([73,74,75,71,69,72,76,73])\n",
    "# assert test3 == [1,1,4,2,1,1,0,0], test3\n",
    "\n",
    "\n"
   ]
  },
  {
   "cell_type": "code",
   "execution_count": null,
   "id": "8d21d1d1",
   "metadata": {},
   "outputs": [],
   "source": []
  }
 ],
 "metadata": {
  "kernelspec": {
   "display_name": "Python 3",
   "language": "python",
   "name": "python3"
  },
  "language_info": {
   "codemirror_mode": {
    "name": "ipython",
    "version": 3
   },
   "file_extension": ".py",
   "mimetype": "text/x-python",
   "name": "python",
   "nbconvert_exporter": "python",
   "pygments_lexer": "ipython3",
   "version": "3.9.6"
  }
 },
 "nbformat": 4,
 "nbformat_minor": 5
}
