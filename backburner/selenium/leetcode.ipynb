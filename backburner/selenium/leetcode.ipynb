{
 "cells": [
  {
   "cell_type": "markdown",
   "id": "2080dcdb",
   "metadata": {},
   "source": [
    "[\n",
    "    '1','1','0','0','0' -> 1\n",
    "    '0','0','1','0','0' -> 2\n",
    "    '0','0','0','1','1' -> 3\n",
    "]\n",
    "\n",
    "[\n",
    "    '1','1','0','0','0' -> 1\n",
    "    '0','1','1','0','0' -> 1\n",
    "    '0','1','0','1','1' -> 2\n",
    "    '0','1','1','1','0' -> 1\n",
    "]\n",
    "\n",
    "# simplified island problem\n",
    "- option 1: dfs over nodes and add to visited set\n",
    "- option 2: union find (unknown): need a way to keep track of all islands\n",
    "    - assign zeros to a null parent, that way all remaining unique parents is our count\n",
    "\n",
    "# brute force dfs:\n",
    "- adding row: O(1)\n",
    "- count islands: O(n*m)\n",
    "    - if large number of counts, this is inefficient\n",
    "        - can mitigate this with caching\n",
    "        - with thousands of calls, this gets large\n",
    "\n",
    "## local\n",
    "- visited set()\n",
    "- dfs function -> count\n",
    "- return \n",
    "## global\n",
    "- result cache array (optional)\n",
    "- add row\n",
    "- count islands\n",
    "- entire matrix\n",
    "\n",
    "# optimal union find:\n",
    "- adding row: O(n)\n",
    "    - we look at row above it and go through each row\n",
    "- count islands: O(1)\n",
    "    - we need a set for this"
   ]
  },
  {
   "cell_type": "code",
   "execution_count": 30,
   "id": "9aa8a230",
   "metadata": {},
   "outputs": [],
   "source": [
    "class Solution:\n",
    "    def __init__(self):\n",
    "        self.matrix = []\n",
    "        self.res = []\n",
    "    def addRow(self, row: list[int]) -> None:\n",
    "        self.matrix.append(row)\n",
    "        self.res.append(self.countIslands())\n",
    "    def countIslands(self) -> int:\n",
    "        m, n = len(self.matrix), len(self.matrix[0])\n",
    "        dirs = [(0,1), (1,0), (0,-1), (-1,0)]\n",
    "        def valid(r: int, c: int) -> bool:\n",
    "            return 0 <= r < m and 0 <= c < n\n",
    "        def dfs(r: int, c: int) -> None:\n",
    "            for dr, dc in dirs:\n",
    "                nr, nc = dr + r, dc + c\n",
    "                if not valid(nr, nc) or (nr, nc) in visited or self.matrix[nr][nc] == 0:\n",
    "                    continue\n",
    "                visited.add((nr, nc))\n",
    "                dfs(nr, nc)\n",
    "        visited = set()\n",
    "        res = 0\n",
    "        for r in range(m):\n",
    "            for c in range(n):\n",
    "                if (r, c) in visited or self.matrix[r][c] == 0:\n",
    "                    continue\n",
    "                dfs(r, c)\n",
    "                res += 1\n",
    "        return res\n",
    "    def returnCount(self):\n",
    "        return self.res[-1]"
   ]
  },
  {
   "cell_type": "code",
   "execution_count": 32,
   "id": "61e985ad",
   "metadata": {},
   "outputs": [
    {
     "name": "stdout",
     "output_type": "stream",
     "text": [
      "1\n",
      "2\n",
      "1\n"
     ]
    }
   ],
   "source": [
    "sln = Solution()\n",
    "sln.addRow([0,0,1,1])\n",
    "print(sln.returnCount())\n",
    "sln.addRow([0,1,0,1])\n",
    "print(sln.returnCount())\n",
    "sln.addRow([0,1,1,1])\n",
    "print(sln.returnCount())"
   ]
  }
 ],
 "metadata": {
  "kernelspec": {
   "display_name": "3.13.3",
   "language": "python",
   "name": "python3"
  },
  "language_info": {
   "codemirror_mode": {
    "name": "ipython",
    "version": 3
   },
   "file_extension": ".py",
   "mimetype": "text/x-python",
   "name": "python",
   "nbconvert_exporter": "python",
   "pygments_lexer": "ipython3",
   "version": "3.13.3"
  }
 },
 "nbformat": 4,
 "nbformat_minor": 5
}
